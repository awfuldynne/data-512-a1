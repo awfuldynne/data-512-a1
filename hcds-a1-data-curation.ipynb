{
 "cells": [
  {
   "cell_type": "markdown",
   "metadata": {},
   "source": [
    "# Assignment 1 - Data Curation\n",
    "Sean Miller (<millsea0@u.washington.edu>)\n"
   ]
  },
  {
   "cell_type": "markdown",
   "metadata": {},
   "source": [
    "#### Overview\n",
    "\n",
    "This notebook outlines using the Wikipedia **Pagecounts** and **Pageviews APIs** to analyze data about the amount of traffic both the desktop and mobile English Wikipedia sites saw per month from January 2008 through September 2017.\n",
    "\n",
    "#### Libraries\n",
    "\n",
    "All of the following code was written and tested against the default packages present in **Anaconda3 v4.4.0**. You can find a download for Anaconda and its latest versions at <https://repo.continuum.io/archive/>."
   ]
  },
  {
   "cell_type": "code",
   "execution_count": 1,
   "metadata": {},
   "outputs": [],
   "source": [
    "from datetime import date\n",
    "import matplotlib.pyplot as plt\n",
    "import matplotlib.lines as mlines\n",
    "import os\n",
    "import pandas as pd\n",
    "import requests\n",
    "from urllib.parse import urljoin\n",
    "%matplotlib inline"
   ]
  },
  {
   "cell_type": "markdown",
   "metadata": {},
   "source": [
    "First, we need to construct URLs we'll be sending RESTful requests to for each API. We can use the following references to construct the URLs.\n",
    "\n",
    "|API | Documentation | Endpoint | Date Range |\n",
    "|--------------------------------|\n",
    "|Pagecounts | [Pagecounts Documentation](https://wikitech.wikimedia.org/wiki/Analytics/AQS/Legacy_Pagecounts) | [RESTBase Reference](https://wikimedia.org/api/rest_v1/)| Jan 2008 - July 2016 |\n",
    "|Pageviews | [Pageview Documentation](https://wikitech.wikimedia.org/wiki/Analytics/AQS/Pageviews) | [RESTBase Reference](https://wikimedia.org/api/rest_v1/#!/Pageviews_data/get_metrics_pageviews_aggregate_project_access_agent_granularity_start_end)| July 2015 - Present Day |"
   ]
  },
  {
   "cell_type": "code",
   "execution_count": 2,
   "metadata": {
    "collapsed": true
   },
   "outputs": [],
   "source": [
    "# Both endpoints share the same base URL\n",
    "root_endpoint = \"https://wikimedia.org/api/rest_v1/metrics/\"\n",
    "pagecount_url = \"legacy/pagecounts/aggregate/{project}/{access-site}/{granularity}/{start}/{end}\"\n",
    "pageviews_url = \"pageviews/aggregate/{project}/{access}/{agent}/{granularity}/{start}/{end}\"\n",
    "\n",
    "# Create the Pagecounts API format string\n",
    "pagecount_endpoint = urljoin(root_endpoint, pagecount_url)\n",
    "\n",
    "# Create the Pageviews API format string\n",
    "pageviews_endpoint = urljoin(root_endpoint, pageviews_url)"
   ]
  },
  {
   "cell_type": "markdown",
   "metadata": {},
   "source": [
    "For this analysis, we're only interested in capturing statistics for complete months. The expected format of a date string in either API is YYYYMMDDHH where YYYY is year, MM is the month, DD is the day and HH is the hour."
   ]
  },
  {
   "cell_type": "code",
   "execution_count": 3,
   "metadata": {
    "collapsed": true
   },
   "outputs": [],
   "source": [
    "# Pagecounts API date range extends through entire date range specified above\n",
    "pagecounts_dates = {\"date_start\": \"2008010100\", \"date_end\": \"2016073100\"}\n",
    "\n",
    "# Pageviews API date range only includes whole months so we end in September 2017\n",
    "pageviews_dates = {\"date_start\": \"2015070100\", \"date_end\": \"2017093000\"}\n",
    "dates_dict = {\"pagecounts\": pagecounts_dates, \"pageviews\": pageviews_dates}"
   ]
  },
  {
   "cell_type": "markdown",
   "metadata": {},
   "source": [
    "To break out our result sets into desktop and mobile groupings, we need to specify access-site in the Pagecounts API and access in the Pageviews API. In the Pageviews API, mobile views can come from both the mobile website and the mobile application.\n",
    "\n",
    "As part of the Terms and conditions from the [Wikimedia REST API](https://www.mediawiki.org/wiki/REST_API), we agree to send a unique User-Agent header in our requests so Wikimedia can contact us if any problem arises from our script."
   ]
  },
  {
   "cell_type": "code",
   "execution_count": 4,
   "metadata": {
    "collapsed": true
   },
   "outputs": [],
   "source": [
    "# Create Access-site/Access dictionary\n",
    "pagecount_access_site = [\"desktop-site\", \"mobile-site\"]\n",
    "pageviews_access = [\"desktop\", \"mobile-web\", \"mobile-app\"]\n",
    "access_dict = {\"pagecounts\": pagecount_access_site, \"pageviews\": pageviews_access}\n",
    "\n",
    "# Create user-agent header\n",
    "headers = {\"User-Agent\" : \"https://github.com/awfuldynne\", \"From\" : \"millsea0@uw.edu\"}\n",
    "response_results = {}"
   ]
  },
  {
   "cell_type": "markdown",
   "metadata": {},
   "source": [
    "Looping through the Access-Site values for the **Pagecounts API** and the Access values for the **Pageviews API**, we store off the JSON reposnse from the API into the object response_results which is a dictionary that maps Access-Site/Access values to the response dictionary.\n",
    "\n",
    "Part of the improvements in the **Pageviews API** is the ability to filter down to only users and not web crawlers hitting Wikipedia sites. Because we're primarily interested in user and not crawler traffic, we set the agent field for our requests to Pageviews."
   ]
  },
  {
   "cell_type": "code",
   "execution_count": 5,
   "metadata": {
    "collapsed": true
   },
   "outputs": [],
   "source": [
    "# Loop through each access-site and store the response in response_results\n",
    "for access_site in pagecount_access_site:\n",
    "    pagecount_params = \\\n",
    "        {\n",
    "            \"project\": \"en.wikipedia.org\",\n",
    "            \"access-site\": access_site,\n",
    "            \"granularity\": \"monthly\",\n",
    "            \"start\": pagecounts_dates[\"date_start\"],\n",
    "            \"end\": pagecounts_dates[\"date_end\"]\n",
    "        }\n",
    "\n",
    "    api_call = requests.get(pagecount_endpoint.format(**pagecount_params), headers=headers)\n",
    "    response = api_call.json()\n",
    "    response_results[access_site] = response"
   ]
  },
  {
   "cell_type": "code",
   "execution_count": 6,
   "metadata": {
    "collapsed": true
   },
   "outputs": [],
   "source": [
    "# Loop through each access and store the response in response_results\n",
    "for access in pageviews_access:\n",
    "    pageviews_params = \\\n",
    "        {\n",
    "            \"project\": \"en.wikipedia.org\",\n",
    "            \"access\": access,\n",
    "            # For the Pageviews API, we filter down to only user agent hits to avoid web crawler page views\n",
    "            \"agent\": \"user\",\n",
    "            \"granularity\": \"monthly\",\n",
    "            \"start\": pageviews_dates[\"date_start\"],\n",
    "            \"end\": pageviews_dates[\"date_end\"]\n",
    "        }\n",
    "\n",
    "    api_call = requests.get(pageviews_endpoint.format(**pageviews_params), headers=headers)\n",
    "    response = api_call.json()\n",
    "    response_results[access] = response"
   ]
  },
  {
   "cell_type": "markdown",
   "metadata": {},
   "source": [
    "In the case that the **Wikimedia APIs** ever go down, we write out the JSON responses we've received from the API. The data within this GitHub repo was retrieved from the respective APIs on 10/16/2017."
   ]
  },
  {
   "cell_type": "code",
   "execution_count": 8,
   "metadata": {},
   "outputs": [],
   "source": [
    "# If the folder raw_data doesn't already exist, create it\n",
    "if not os.path.exists(\"raw_data\"):\n",
    "    os.makedirs(\"./raw_data\")\n",
    "\n",
    "# Loop through each api in access dictionary\n",
    "for api in access_dict.keys():\n",
    "    # Loop through each access-site/access type\n",
    "    for access in access_dict[api]:\n",
    "        # Write out a file for each JSON reponse to the raw_data folder\n",
    "        outfile = open(\"./raw_data/{}_{}_{}-{}.json\"\n",
    "                       .format(api,\n",
    "                               access,\n",
    "                               dates_dict[api][\"date_start\"][:6],\n",
    "                               dates_dict[api][\"date_end\"][:6]), \"w\")\n",
    "        outfile.write(str(response_results[access]))\n",
    "        outfile.close()"
   ]
  },
  {
   "cell_type": "markdown",
   "metadata": {},
   "source": [
    "Now that we have our responses from the APIs, we'll transform each item in each response into a data point of the form (Year, Month, API, Access-Site/Access, Views/Counts).\n",
    "\n",
    "###### Example Pagecounts Item:"
   ]
  },
  {
   "cell_type": "code",
   "execution_count": 9,
   "metadata": {},
   "outputs": [
    {
     "data": {
      "text/plain": [
       "{'access-site': 'mobile-site',\n",
       " 'count': 3091546685,\n",
       " 'granularity': 'monthly',\n",
       " 'project': 'en.wikipedia',\n",
       " 'timestamp': '2014100100'}"
      ]
     },
     "execution_count": 9,
     "metadata": {},
     "output_type": "execute_result"
    }
   ],
   "source": [
    "response_results[\"mobile-site\"][\"items\"][0]"
   ]
  },
  {
   "cell_type": "markdown",
   "metadata": {},
   "source": [
    "###### Example Pageviews Item:"
   ]
  },
  {
   "cell_type": "code",
   "execution_count": 10,
   "metadata": {},
   "outputs": [
    {
     "data": {
      "text/plain": [
       "{'access': 'mobile-app',\n",
       " 'agent': 'user',\n",
       " 'granularity': 'monthly',\n",
       " 'project': 'en.wikipedia',\n",
       " 'timestamp': '2015070100',\n",
       " 'views': 109624146}"
      ]
     },
     "execution_count": 10,
     "metadata": {},
     "output_type": "execute_result"
    }
   ],
   "source": [
    "response_results[\"mobile-app\"][\"items\"][0]"
   ]
  },
  {
   "cell_type": "code",
   "execution_count": 12,
   "metadata": {},
   "outputs": [],
   "source": [
    "# Create our simplified dataset from JSON responses\n",
    "# Year, Month, API, Access, Views/Counts\n",
    "pageviews_data = []\n",
    "for api in access_dict.keys():\n",
    "    for access in access_dict[api]:\n",
    "        for item in response_results[access][\"items\"]:\n",
    "            # Year is the first 4 characters of the timestamp\n",
    "            pageviews_data.append([int(item[\"timestamp\"][:4]),\n",
    "                         # Month is the next 2 characters after year\n",
    "                         int(item[\"timestamp\"][4:6]),\n",
    "                         api,\n",
    "                         # Simplify Access-Site/Access types into either Desktop or Mobile\n",
    "                         \"desktop\" if \"desktop\" in access else \"mobile\",\n",
    "                         # \"count\" is the number of views in the Pagecounts API\n",
    "                         # \"views\" is the number of views in the Pageviews API\n",
    "                         item[\"count\" if api == \"pagecounts\" else \"views\"]])"
   ]
  },
  {
   "cell_type": "markdown",
   "metadata": {},
   "source": [
    "Next, we initialize a Pandas DataFrame of the shape:\n",
    "\n",
    "| Column | Value |\n",
    "|-----------------------|\n",
    "| year | YYYY |\n",
    "| month | MM |\n",
    "| pagecount_all_views | num_views |\n",
    "| pagecount_desktop_views | num_views |\n",
    "| pagecount_mobile_views | num_views |\n",
    "| pageview_all_views | num_views |\n",
    "| pageview_desktop_views | num_views |\n",
    "| pageview_mobile_views | num_views |"
   ]
  },
  {
   "cell_type": "code",
   "execution_count": 20,
   "metadata": {
    "collapsed": true
   },
   "outputs": [],
   "source": [
    "# Create column list\n",
    "columns = [\"year\", \"month\", \"pagecount_all_views\", \"pagecount_desktop_views\", \"pagecount_mobile_views\",\n",
    "           \"pageview_all_views\", \"pageview_desktop_views\", \"pageview_mobile_views\"]\n",
    "\n",
    "# Create empty DataFrame\n",
    "df = pd.DataFrame(columns=columns)"
   ]
  },
  {
   "cell_type": "markdown",
   "metadata": {},
   "source": [
    "Now we need to fill our DataFrame with data! To do this, we iterate through each item within the list *pageviews_data*. For each item within *pageviews_data* we check to see if that (Year, Month) combination has already been added to the dataset. If so, we update the corresponding columns. If the row doesn't exist, we create a new Series for that (Year, Month) and append it to the DataFrame."
   ]
  },
  {
   "cell_type": "code",
   "execution_count": 21,
   "metadata": {},
   "outputs": [],
   "source": [
    "for item in pageviews_data:\n",
    "    # If row doesn't exist, initialize a new Series and append it to the DataFrame\n",
    "    if not ((df.year == item[0]) & (df.month == item[1])).any():\n",
    "        new_row = pd.Series(index=columns)\n",
    "        new_row.year = item[0]\n",
    "        new_row.month = item[1]\n",
    "        # For each column of view counts, we use a ternary operator to check if the item we're on matches\n",
    "        # what that column is counting. If so, we set that value. If not, we set the value to 0\n",
    "        new_row.pagecount_all_views =       item[4] if item[2] == \"pagecounts\" else 0\n",
    "        new_row.pagecount_desktop_views =   item[4] if item[2] == \"pagecounts\" and item[3] == \"desktop\" else 0\n",
    "        new_row.pagecount_mobile_views =    item[4] if item[2] == \"pagecounts\" and item[3] == \"mobile\" else 0\n",
    "        new_row.pageview_all_views =        item[4] if item[2] == \"pageviews\" else 0\n",
    "        new_row.pageview_desktop_views =    item[4] if item[2] == \"pageviews\" and item[3] == \"desktop\" else 0\n",
    "        new_row.pageview_mobile_views =     item[4] if item[2] == \"pageviews\" and item[3] == \"mobile\" else 0\n",
    "        # Append the row to the DataFrame\n",
    "        df = df.append(new_row, ignore_index=True)\n",
    "    # If row exists\n",
    "    else:\n",
    "        # We know that the row matching the (Year, Month) exists so find the index of that row.\n",
    "        index_value = df.index[(df[\"year\"] == item[0]) & (df[\"month\"] == item[1])][0]\n",
    "        # Check which columns the item we're processing matches and increment those values\n",
    "        if item[2] == \"pagecounts\" and item[3] == \"desktop\":\n",
    "            df.iloc[index_value].pagecount_desktop_views += item[4]\n",
    "            df.iloc[index_value].pagecount_all_views += item[4]\n",
    "        elif item[2] == \"pagecounts\" and item[3] == \"mobile\":\n",
    "            df.iloc[index_value].pagecount_mobile_views += item[4]\n",
    "            df.iloc[index_value].pagecount_all_views += item[4]\n",
    "        elif item[2] == \"pageviews\" and item[3] == \"desktop\":\n",
    "            df.iloc[index_value].pageview_desktop_views += item[4]\n",
    "            df.iloc[index_value].pageview_all_views += item[4]\n",
    "        else:\n",
    "            df.iloc[index_value].pageview_mobile_views += item[4]\n",
    "            df.iloc[index_value].pageview_all_views += item[4]\n",
    "            \n",
    "# Convert columns of data to signed integers if possible\n",
    "df = df.apply(pd.to_numeric, downcast=\"signed\")"
   ]
  },
  {
   "cell_type": "markdown",
   "metadata": {},
   "source": [
    "Once our data is in the shape that we want, we then output the data to a CSV file in the clean_data directory so that the data can be taken into another application to be visualized if necessary.\n",
    "\n",
    "###### Example DataFrame:"
   ]
  },
  {
   "cell_type": "code",
   "execution_count": 22,
   "metadata": {},
   "outputs": [
    {
     "data": {
      "text/html": [
       "<div>\n",
       "<style>\n",
       "    .dataframe thead tr:only-child th {\n",
       "        text-align: right;\n",
       "    }\n",
       "\n",
       "    .dataframe thead th {\n",
       "        text-align: left;\n",
       "    }\n",
       "\n",
       "    .dataframe tbody tr th {\n",
       "        vertical-align: top;\n",
       "    }\n",
       "</style>\n",
       "<table border=\"1\" class=\"dataframe\">\n",
       "  <thead>\n",
       "    <tr style=\"text-align: right;\">\n",
       "      <th></th>\n",
       "      <th>year</th>\n",
       "      <th>month</th>\n",
       "      <th>pagecount_all_views</th>\n",
       "      <th>pagecount_desktop_views</th>\n",
       "      <th>pagecount_mobile_views</th>\n",
       "      <th>pageview_all_views</th>\n",
       "      <th>pageview_desktop_views</th>\n",
       "      <th>pageview_mobile_views</th>\n",
       "    </tr>\n",
       "  </thead>\n",
       "  <tbody>\n",
       "    <tr>\n",
       "      <th>0</th>\n",
       "      <td>2008</td>\n",
       "      <td>1</td>\n",
       "      <td>4930902570</td>\n",
       "      <td>4930902570</td>\n",
       "      <td>0</td>\n",
       "      <td>0</td>\n",
       "      <td>0</td>\n",
       "      <td>0</td>\n",
       "    </tr>\n",
       "    <tr>\n",
       "      <th>1</th>\n",
       "      <td>2008</td>\n",
       "      <td>2</td>\n",
       "      <td>4818393763</td>\n",
       "      <td>4818393763</td>\n",
       "      <td>0</td>\n",
       "      <td>0</td>\n",
       "      <td>0</td>\n",
       "      <td>0</td>\n",
       "    </tr>\n",
       "    <tr>\n",
       "      <th>2</th>\n",
       "      <td>2008</td>\n",
       "      <td>3</td>\n",
       "      <td>4955405809</td>\n",
       "      <td>4955405809</td>\n",
       "      <td>0</td>\n",
       "      <td>0</td>\n",
       "      <td>0</td>\n",
       "      <td>0</td>\n",
       "    </tr>\n",
       "    <tr>\n",
       "      <th>3</th>\n",
       "      <td>2008</td>\n",
       "      <td>4</td>\n",
       "      <td>5159162183</td>\n",
       "      <td>5159162183</td>\n",
       "      <td>0</td>\n",
       "      <td>0</td>\n",
       "      <td>0</td>\n",
       "      <td>0</td>\n",
       "    </tr>\n",
       "    <tr>\n",
       "      <th>4</th>\n",
       "      <td>2008</td>\n",
       "      <td>5</td>\n",
       "      <td>5584691092</td>\n",
       "      <td>5584691092</td>\n",
       "      <td>0</td>\n",
       "      <td>0</td>\n",
       "      <td>0</td>\n",
       "      <td>0</td>\n",
       "    </tr>\n",
       "  </tbody>\n",
       "</table>\n",
       "</div>"
      ],
      "text/plain": [
       "   year  month  pagecount_all_views  pagecount_desktop_views  \\\n",
       "0  2008      1           4930902570               4930902570   \n",
       "1  2008      2           4818393763               4818393763   \n",
       "2  2008      3           4955405809               4955405809   \n",
       "3  2008      4           5159162183               5159162183   \n",
       "4  2008      5           5584691092               5584691092   \n",
       "\n",
       "   pagecount_mobile_views  pageview_all_views  pageview_desktop_views  \\\n",
       "0                       0                   0                       0   \n",
       "1                       0                   0                       0   \n",
       "2                       0                   0                       0   \n",
       "3                       0                   0                       0   \n",
       "4                       0                   0                       0   \n",
       "\n",
       "   pageview_mobile_views  \n",
       "0                      0  \n",
       "1                      0  \n",
       "2                      0  \n",
       "3                      0  \n",
       "4                      0  "
      ]
     },
     "execution_count": 22,
     "metadata": {},
     "output_type": "execute_result"
    }
   ],
   "source": [
    "df.head()"
   ]
  },
  {
   "cell_type": "code",
   "execution_count": null,
   "metadata": {
    "collapsed": true
   },
   "outputs": [],
   "source": [
    "# If the folder clean_data doesn't already exist, create it\n",
    "if not os.path.exists(\"clean_data\"):\n",
    "    os.makedirs(\"./clean_data\")\n",
    "\n",
    "\n",
    "# Truncate float values to have no decimal precision when writing out the CSV\n",
    "# Float formatting from https://stackoverflow.com/questions/21291259/convert-floats-to-ints-in-pandas\n",
    "df.to_csv(\"./clean_data/en-wikipedia_traffic_200801-201709.csv\", index=False, float_format=\"%.f\")"
   ]
  },
  {
   "cell_type": "markdown",
   "metadata": {},
   "source": [
    "For our final step, we want to visualize the output in a line graph tracking three metrics: mobile traffic, desktop traffic and overall traffic. Solid lines indicate use of the Pagecounts API while dashed lines indicate values from the Pageviews API. We'll first clean up the dataset so that our counts are scaled down to number of millions of views and we'll add a column for Date to simplify our X-Axis."
   ]
  },
  {
   "cell_type": "code",
   "execution_count": 24,
   "metadata": {
    "collapsed": true
   },
   "outputs": [],
   "source": [
    "# Scale down all of the columns counting the number of views so that they are the number of\n",
    "# millions of views.\n",
    "df.loc[:,[\"pagecount_all_views\", \"pagecount_desktop_views\", \"pagecount_mobile_views\",\n",
    "                \"pageview_all_views\", \"pageview_desktop_views\", \"pageview_mobile_views\"]] = \\\n",
    "    df.loc[:,[\"pagecount_all_views\", \"pagecount_desktop_views\", \"pagecount_mobile_views\",\n",
    "              \"pageview_all_views\", \"pageview_desktop_views\", \"pageview_mobile_views\"]] / 1000000\n",
    "\n",
    "# Set any 0 value in the DataFrame to None so it isn't plotted\n",
    "df = df.where(df != 0, None)\n",
    "\n",
    "# Create a new date column to use as the X-Axis\n",
    "# How to computer a date column in Pandas:\n",
    "# https://stackoverflow.com/questions/31192924/python-pandas-create-a-dataframe-of-dates-from-existing-columns\n",
    "df[\"Date\"] = df.apply(lambda row_item: date(row_item.year, row_item.month, 15), axis=1)"
   ]
  },
  {
   "cell_type": "markdown",
   "metadata": {},
   "source": [
    "Finally we can plot! A Pandas DataFrame object has a method called **.plot()** which we'll use to create our pyplot figure. The plot is saved out as a .png image into the outputs folder and is also displayed within this notebook."
   ]
  },
  {
   "cell_type": "code",
   "execution_count": 25,
   "metadata": {
    "scrolled": true
   },
   "outputs": [
    {
     "data": {
      "text/plain": [
       "<matplotlib.figure.Figure at 0x162047707b8>"
      ]
     },
     "metadata": {},
     "output_type": "display_data"
    },
    {
     "data": {
      "image/png": "[encoded data removed]",
      "text/plain": [
       "<matplotlib.figure.Figure at 0x1620478b550>"
      ]
     },
     "metadata": {},
     "output_type": "display_data"
    }
   ],
   "source": [
    "# Create PyPlot figure. \n",
    "plt.figure()\n",
    "\n",
    "# Create Line2D objects to be used within the legend for each data type\n",
    "total_line = mlines.Line2D([], [], color='black', linestyle=\"-\")\n",
    "main_line = mlines.Line2D([], [], color='green', linestyle=\"-\")\n",
    "mobile_line = mlines.Line2D([], [], color='blue', linestyle=\"-\")\n",
    "\n",
    "# Create the initial plot\n",
    "ax = df.plot(x=[\"Date\"],\n",
    "             y=[\"pagecount_all_views\", \"pagecount_desktop_views\", \"pagecount_mobile_views\",\n",
    "                \"pageview_all_views\", \"pageview_desktop_views\", \"pageview_mobile_views\"],\n",
    "             # Create a Line chart\n",
    "             kind=\"line\",\n",
    "             # Scale the chart to be 12x5\n",
    "             figsize=(12,5),\n",
    "             # Set the title\n",
    "             title=\"Page Views on English Wikipedia (x 1,000,000)\",\n",
    "             # Set the style of each line in the order the data is listed for y\n",
    "             # For example \"k-\" means a solid black line while \"b--\" means a dashed blue line\n",
    "             style=[\"k-\", \"g-\", \"b-\", \"k--\", \"g--\", \"b--\"],\n",
    "             # Disable the default legend\n",
    "             legend=False)\n",
    "\n",
    "# Set axis labels\n",
    "ax.set_xlabel(\"Year\")\n",
    "ax.set_ylabel(\"Page Views (x 1,000,000)\")\n",
    "\n",
    "# Set y-axis scale\n",
    "ax.set_ybound(0, 11000)\n",
    "\n",
    "# Add a legend \n",
    "ax.legend([total_line, main_line, mobile_line], [\"Total\", \"Main Site\", \"Mobile\"], loc=2)\n",
    "\n",
    "# If the folder outputs doesn't already exist, create it\n",
    "if not os.path.exists(\"outputs\"):\n",
    "    os.makedirs(\"./outputs\")\n",
    "\n",
    "# Save the figure out into the outputs folder\n",
    "plt.savefig(\"./outputs/en-wikipedia_traffic_200801-201709.png\")\n",
    "\n",
    "# Display the plot in-line\n",
    "plt.show()"
   ]
  }
 ],
 "metadata": {
  "kernelspec": {
   "display_name": "Python 3",
   "language": "python",
   "name": "python3"
  },
  "language_info": {
   "codemirror_mode": {
    "name": "ipython",
    "version": 3
   },
   "file_extension": ".py",
   "mimetype": "text/x-python",
   "name": "python",
   "nbconvert_exporter": "python",
   "pygments_lexer": "ipython3",
   "version": "3.6.1"
  }
 },
 "nbformat": 4,
 "nbformat_minor": 2
}
